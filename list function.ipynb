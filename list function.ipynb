{
 "cells": [
  {
   "cell_type": "code",
   "execution_count": 2,
   "id": "9299cb68-96da-40f7-9625-915098bc696a",
   "metadata": {},
   "outputs": [
    {
     "data": {
      "text/plain": [
       "list"
      ]
     },
     "execution_count": 2,
     "metadata": {},
     "output_type": "execute_result"
    }
   ],
   "source": [
    "l = [3,4,5,34,56,\"sonu\",True]\n",
    "type(l)\n"
   ]
  },
  {
   "cell_type": "code",
   "execution_count": 3,
   "id": "a158d6cf-7970-4538-b011-e0e1872a37cd",
   "metadata": {},
   "outputs": [
    {
     "data": {
      "text/plain": [
       "[3, 4, 5, 34, 56, 'sonu', True, 3, 4, 5, 34, 56, 'sonu', True]"
      ]
     },
     "execution_count": 3,
     "metadata": {},
     "output_type": "execute_result"
    }
   ],
   "source": [
    "l * 2"
   ]
  },
  {
   "cell_type": "code",
   "execution_count": 4,
   "id": "1f2031da-83cf-466d-9dd1-ef90c9888e89",
   "metadata": {},
   "outputs": [
    {
     "data": {
      "text/plain": [
       "[3,\n",
       " 4,\n",
       " 5,\n",
       " 34,\n",
       " 56,\n",
       " 'sonu',\n",
       " True,\n",
       " 3,\n",
       " 4,\n",
       " 5,\n",
       " 34,\n",
       " 56,\n",
       " 'sonu',\n",
       " True,\n",
       " 3,\n",
       " 4,\n",
       " 5,\n",
       " 34,\n",
       " 56,\n",
       " 'sonu',\n",
       " True]"
      ]
     },
     "execution_count": 4,
     "metadata": {},
     "output_type": "execute_result"
    }
   ],
   "source": [
    "l * 3"
   ]
  },
  {
   "cell_type": "code",
   "execution_count": 5,
   "id": "9cff775b-da54-475f-a9d3-c507cccf96b4",
   "metadata": {},
   "outputs": [
    {
     "data": {
      "text/plain": [
       "'sonusonusonu'"
      ]
     },
     "execution_count": 5,
     "metadata": {},
     "output_type": "execute_result"
    }
   ],
   "source": [
    "s = \"sonu\"\n",
    "s * 3"
   ]
  },
  {
   "cell_type": "code",
   "execution_count": 6,
   "id": "abdab016-ff58-4fa3-a66a-99a524571164",
   "metadata": {},
   "outputs": [
    {
     "data": {
      "text/plain": [
       "[3, 4, 5, 34, 56, 'sonu', True]"
      ]
     },
     "execution_count": 6,
     "metadata": {},
     "output_type": "execute_result"
    }
   ],
   "source": [
    "l "
   ]
  },
  {
   "cell_type": "code",
   "execution_count": 7,
   "id": "f192888d-eab6-41a0-9d81-e4d0b2265419",
   "metadata": {},
   "outputs": [
    {
     "data": {
      "text/plain": [
       "[3, 4, 5, 34, 56, 'sonu', True, 3, 4, 5, 6]"
      ]
     },
     "execution_count": 7,
     "metadata": {},
     "output_type": "execute_result"
    }
   ],
   "source": [
    "l1 = [3,4,5,6]\n",
    "l + l1"
   ]
  },
  {
   "cell_type": "code",
   "execution_count": 8,
   "id": "a5c1c212-0432-4f4e-a69d-ce961cbf8013",
   "metadata": {},
   "outputs": [
    {
     "data": {
      "text/plain": [
       "[3, 4, 5, 34, 56, 'sonu', True]"
      ]
     },
     "execution_count": 8,
     "metadata": {},
     "output_type": "execute_result"
    }
   ],
   "source": [
    "l"
   ]
  },
  {
   "cell_type": "code",
   "execution_count": 9,
   "id": "00c0b402-a87c-438a-a3b8-f7ae15692b0c",
   "metadata": {},
   "outputs": [
    {
     "ename": "TypeError",
     "evalue": "can only concatenate list (not \"int\") to list",
     "output_type": "error",
     "traceback": [
      "\u001b[0;31m---------------------------------------------------------------------------\u001b[0m",
      "\u001b[0;31mTypeError\u001b[0m                                 Traceback (most recent call last)",
      "Cell \u001b[0;32mIn[9], line 1\u001b[0m\n\u001b[0;32m----> 1\u001b[0m \u001b[43ml\u001b[49m\u001b[43m \u001b[49m\u001b[38;5;241;43m+\u001b[39;49m\u001b[43m \u001b[49m\u001b[38;5;241;43m1\u001b[39;49m\n",
      "\u001b[0;31mTypeError\u001b[0m: can only concatenate list (not \"int\") to list"
     ]
    }
   ],
   "source": [
    "l + 1"
   ]
  },
  {
   "cell_type": "code",
   "execution_count": 10,
   "id": "f3628ad0-32e9-48b9-ba93-0628bb72c8b9",
   "metadata": {},
   "outputs": [
    {
     "ename": "TypeError",
     "evalue": "can only concatenate list (not \"str\") to list",
     "output_type": "error",
     "traceback": [
      "\u001b[0;31m---------------------------------------------------------------------------\u001b[0m",
      "\u001b[0;31mTypeError\u001b[0m                                 Traceback (most recent call last)",
      "Cell \u001b[0;32mIn[10], line 1\u001b[0m\n\u001b[0;32m----> 1\u001b[0m \u001b[43ml\u001b[49m\u001b[43m \u001b[49m\u001b[38;5;241;43m+\u001b[39;49m\u001b[43m \u001b[49m\u001b[38;5;124;43m\"\u001b[39;49m\u001b[38;5;124;43msonu\u001b[39;49m\u001b[38;5;124;43m\"\u001b[39;49m\n",
      "\u001b[0;31mTypeError\u001b[0m: can only concatenate list (not \"str\") to list"
     ]
    }
   ],
   "source": [
    "l + \"sonu\""
   ]
  },
  {
   "cell_type": "code",
   "execution_count": 11,
   "id": "b1c683b9-005d-48e7-902c-f858158f485a",
   "metadata": {},
   "outputs": [
    {
     "data": {
      "text/plain": [
       "[3, 4, 5, 34, 56, 'sonu', True]"
      ]
     },
     "execution_count": 11,
     "metadata": {},
     "output_type": "execute_result"
    }
   ],
   "source": [
    "l"
   ]
  },
  {
   "cell_type": "code",
   "execution_count": 12,
   "id": "5aac2086-7e5a-4cb9-ba9e-41e3d5a25f06",
   "metadata": {},
   "outputs": [
    {
     "data": {
      "text/plain": [
       "7"
      ]
     },
     "execution_count": 12,
     "metadata": {},
     "output_type": "execute_result"
    }
   ],
   "source": [
    "len(l)"
   ]
  },
  {
   "cell_type": "code",
   "execution_count": 13,
   "id": "849c4b44-80f7-4816-b442-19b580360e03",
   "metadata": {},
   "outputs": [
    {
     "data": {
      "text/plain": [
       "'sonu'"
      ]
     },
     "execution_count": 13,
     "metadata": {},
     "output_type": "execute_result"
    }
   ],
   "source": [
    "s"
   ]
  },
  {
   "cell_type": "code",
   "execution_count": 15,
   "id": "121801f1-3618-4def-97e5-a4e5f01e87d2",
   "metadata": {},
   "outputs": [
    {
     "data": {
      "text/plain": [
       "4"
      ]
     },
     "execution_count": 15,
     "metadata": {},
     "output_type": "execute_result"
    }
   ],
   "source": [
    "len(s)"
   ]
  },
  {
   "cell_type": "code",
   "execution_count": 16,
   "id": "6f093831-95ad-43f9-b505-933eb8084092",
   "metadata": {},
   "outputs": [
    {
     "ename": "TypeError",
     "evalue": "object of type 'int' has no len()",
     "output_type": "error",
     "traceback": [
      "\u001b[0;31m---------------------------------------------------------------------------\u001b[0m",
      "\u001b[0;31mTypeError\u001b[0m                                 Traceback (most recent call last)",
      "Cell \u001b[0;32mIn[16], line 1\u001b[0m\n\u001b[0;32m----> 1\u001b[0m \u001b[38;5;28;43mlen\u001b[39;49m\u001b[43m(\u001b[49m\u001b[38;5;241;43m234\u001b[39;49m\u001b[43m)\u001b[49m\n",
      "\u001b[0;31mTypeError\u001b[0m: object of type 'int' has no len()"
     ]
    }
   ],
   "source": [
    "len(234)"
   ]
  },
  {
   "cell_type": "code",
   "execution_count": 17,
   "id": "5b9c5426-5c34-4169-aba5-e28ef49ade8c",
   "metadata": {},
   "outputs": [
    {
     "data": {
      "text/plain": [
       "[3, 4, 5, 34, 56, 'sonu', True]"
      ]
     },
     "execution_count": 17,
     "metadata": {},
     "output_type": "execute_result"
    }
   ],
   "source": [
    "l"
   ]
  },
  {
   "cell_type": "code",
   "execution_count": 18,
   "id": "ec1f2dde-ef9b-4f4e-9f4d-b4734bd47abd",
   "metadata": {},
   "outputs": [
    {
     "data": {
      "text/plain": [
       "True"
      ]
     },
     "execution_count": 18,
     "metadata": {},
     "output_type": "execute_result"
    }
   ],
   "source": [
    "'sonu' in l"
   ]
  },
  {
   "cell_type": "code",
   "execution_count": 19,
   "id": "ed686c06-2422-4458-9f6a-279473ace21b",
   "metadata": {},
   "outputs": [
    {
     "data": {
      "text/plain": [
       "False"
      ]
     },
     "execution_count": 19,
     "metadata": {},
     "output_type": "execute_result"
    }
   ],
   "source": [
    "100 in l"
   ]
  },
  {
   "cell_type": "code",
   "execution_count": 20,
   "id": "987ddcac-e7f8-43d7-9acb-4180a0e08aec",
   "metadata": {},
   "outputs": [
    {
     "data": {
      "text/plain": [
       "[3, 4, 5, 6]"
      ]
     },
     "execution_count": 20,
     "metadata": {},
     "output_type": "execute_result"
    }
   ],
   "source": [
    "l1"
   ]
  },
  {
   "cell_type": "code",
   "execution_count": 21,
   "id": "ef0de68e-7aa8-4c9e-b498-aa279688e3b2",
   "metadata": {},
   "outputs": [
    {
     "data": {
      "text/plain": [
       "6"
      ]
     },
     "execution_count": 21,
     "metadata": {},
     "output_type": "execute_result"
    }
   ],
   "source": [
    "max(l1) "
   ]
  },
  {
   "cell_type": "code",
   "execution_count": 22,
   "id": "f3d42660-9048-40da-a72c-ab23f6335785",
   "metadata": {},
   "outputs": [
    {
     "data": {
      "text/plain": [
       "[3, 4, 5, 34, 56, 'sonu', True]"
      ]
     },
     "execution_count": 22,
     "metadata": {},
     "output_type": "execute_result"
    }
   ],
   "source": [
    "l"
   ]
  },
  {
   "cell_type": "code",
   "execution_count": 23,
   "id": "d3143bfa-3ebe-423a-a944-8e464d81e323",
   "metadata": {},
   "outputs": [
    {
     "ename": "TypeError",
     "evalue": "'>' not supported between instances of 'str' and 'int'",
     "output_type": "error",
     "traceback": [
      "\u001b[0;31m---------------------------------------------------------------------------\u001b[0m",
      "\u001b[0;31mTypeError\u001b[0m                                 Traceback (most recent call last)",
      "Cell \u001b[0;32mIn[23], line 1\u001b[0m\n\u001b[0;32m----> 1\u001b[0m \u001b[38;5;28;43mmax\u001b[39;49m\u001b[43m(\u001b[49m\u001b[43ml\u001b[49m\u001b[43m)\u001b[49m\n",
      "\u001b[0;31mTypeError\u001b[0m: '>' not supported between instances of 'str' and 'int'"
     ]
    }
   ],
   "source": [
    "max(l)"
   ]
  },
  {
   "cell_type": "code",
   "execution_count": 24,
   "id": "1a827daa-91db-454d-9812-e3013855c8b6",
   "metadata": {},
   "outputs": [
    {
     "data": {
      "text/plain": [
       "'zrt'"
      ]
     },
     "execution_count": 24,
     "metadata": {},
     "output_type": "execute_result"
    }
   ],
   "source": [
    "l2 = [\"sonu\", \"audh\", \"abc\" , \"zrt\"]\n",
    "max(l2)\n",
    "      \n",
    "      \n",
    "      \n",
    "      \n",
    "      \n",
    "      \n",
    "      \n",
    "      \n",
    "      \n",
    "      \n",
    "      \n",
    "      \n",
    "      \n",
    "      \n",
    "      \n",
    "      \n",
    "      \n",
    "      \n",
    "      \n",
    "      \n",
    "      "
   ]
  },
  {
   "cell_type": "code",
   "execution_count": 25,
   "id": "ae920617-ef75-414b-9501-0fbf901e5473",
   "metadata": {},
   "outputs": [
    {
     "data": {
      "text/plain": [
       "'abc'"
      ]
     },
     "execution_count": 25,
     "metadata": {},
     "output_type": "execute_result"
    }
   ],
   "source": [
    "min(l2)"
   ]
  },
  {
   "cell_type": "code",
   "execution_count": 26,
   "id": "eba071d8-6c42-41e0-9acd-2abff0993c43",
   "metadata": {},
   "outputs": [],
   "source": [
    "l3 = [True, False]"
   ]
  },
  {
   "cell_type": "code",
   "execution_count": 27,
   "id": "1abb5397-4608-4f2a-b66a-ada176388328",
   "metadata": {},
   "outputs": [
    {
     "data": {
      "text/plain": [
       "True"
      ]
     },
     "execution_count": 27,
     "metadata": {},
     "output_type": "execute_result"
    }
   ],
   "source": [
    "max(l3)"
   ]
  },
  {
   "cell_type": "code",
   "execution_count": 28,
   "id": "9f8ac8ab-7a21-40c7-a4b2-e524a5503efa",
   "metadata": {},
   "outputs": [
    {
     "data": {
      "text/plain": [
       "False"
      ]
     },
     "execution_count": 28,
     "metadata": {},
     "output_type": "execute_result"
    }
   ],
   "source": [
    "min(l3)"
   ]
  },
  {
   "cell_type": "code",
   "execution_count": 29,
   "id": "6b9d019f-ee4d-475c-8499-a4bfae417ff4",
   "metadata": {},
   "outputs": [
    {
     "data": {
      "text/plain": [
       "['sonu', 'audh', 'abc', 'zrt']"
      ]
     },
     "execution_count": 29,
     "metadata": {},
     "output_type": "execute_result"
    }
   ],
   "source": [
    "l2"
   ]
  },
  {
   "cell_type": "code",
   "execution_count": 30,
   "id": "4eb624eb-77a0-4abe-9f7c-b2dac2fe5a98",
   "metadata": {},
   "outputs": [
    {
     "data": {
      "text/plain": [
       "['sonu', 'audh', 'abc', 'zrt', 45]"
      ]
     },
     "execution_count": 30,
     "metadata": {},
     "output_type": "execute_result"
    }
   ],
   "source": [
    "l2.append(45)\n",
    "l2"
   ]
  },
  {
   "cell_type": "code",
   "execution_count": 31,
   "id": "46f7f358-6b4f-4adf-a3cc-2f65d5438278",
   "metadata": {},
   "outputs": [],
   "source": [
    "l2.append(\"pwskills\")"
   ]
  },
  {
   "cell_type": "code",
   "execution_count": 32,
   "id": "d2e08681-1950-4273-9958-8fc03b8c0b01",
   "metadata": {},
   "outputs": [
    {
     "data": {
      "text/plain": [
       "['sonu', 'audh', 'abc', 'zrt', 45, 'pwskills']"
      ]
     },
     "execution_count": 32,
     "metadata": {},
     "output_type": "execute_result"
    }
   ],
   "source": [
    "l2"
   ]
  },
  {
   "cell_type": "code",
   "execution_count": 33,
   "id": "2fa3d0e6-07bd-4d1a-a80a-7822259308cf",
   "metadata": {},
   "outputs": [
    {
     "data": {
      "text/plain": [
       "['sonu', 353, 'audh', 'abc', 'zrt', 45, 'pwskills']"
      ]
     },
     "execution_count": 33,
     "metadata": {},
     "output_type": "execute_result"
    }
   ],
   "source": [
    "l2.insert(1, 353)\n",
    "l2"
   ]
  },
  {
   "cell_type": "code",
   "execution_count": 34,
   "id": "d8a63409-a2e7-49fb-81c5-5841dd83ee12",
   "metadata": {},
   "outputs": [],
   "source": [
    "l2.insert(0 , 2424)"
   ]
  },
  {
   "cell_type": "code",
   "execution_count": 35,
   "id": "9c7be2ee-2434-4764-b165-422584045502",
   "metadata": {},
   "outputs": [
    {
     "data": {
      "text/plain": [
       "[2424, 'sonu', 353, 'audh', 'abc', 'zrt', 45, 'pwskills']"
      ]
     },
     "execution_count": 35,
     "metadata": {},
     "output_type": "execute_result"
    }
   ],
   "source": [
    "l2"
   ]
  },
  {
   "cell_type": "code",
   "execution_count": 36,
   "id": "b78bac8b-92e9-48fa-ab02-0fd37d49e7ec",
   "metadata": {},
   "outputs": [
    {
     "data": {
      "text/plain": [
       "'pwskills'"
      ]
     },
     "execution_count": 36,
     "metadata": {},
     "output_type": "execute_result"
    }
   ],
   "source": [
    "l2.pop()"
   ]
  },
  {
   "cell_type": "code",
   "execution_count": 37,
   "id": "06edf1c3-ebc3-4627-a02f-5a28e54c748a",
   "metadata": {},
   "outputs": [
    {
     "data": {
      "text/plain": [
       "[2424, 'sonu', 353, 'audh', 'abc', 'zrt', 45]"
      ]
     },
     "execution_count": 37,
     "metadata": {},
     "output_type": "execute_result"
    }
   ],
   "source": [
    "l2"
   ]
  },
  {
   "cell_type": "code",
   "execution_count": 38,
   "id": "e188f316-23b6-40dd-935f-3c3d66c0d2cd",
   "metadata": {},
   "outputs": [
    {
     "data": {
      "text/plain": [
       "353"
      ]
     },
     "execution_count": 38,
     "metadata": {},
     "output_type": "execute_result"
    }
   ],
   "source": [
    "l2.pop(2)"
   ]
  },
  {
   "cell_type": "code",
   "execution_count": 39,
   "id": "bf499533-ea5b-4c81-912b-afd188303617",
   "metadata": {},
   "outputs": [
    {
     "data": {
      "text/plain": [
       "[2424, 'sonu', 'audh', 'abc', 'zrt', 45]"
      ]
     },
     "execution_count": 39,
     "metadata": {},
     "output_type": "execute_result"
    }
   ],
   "source": [
    "l2"
   ]
  },
  {
   "cell_type": "code",
   "execution_count": 40,
   "id": "cd567998-534e-4d22-8cc9-ad2d6c186ca6",
   "metadata": {},
   "outputs": [
    {
     "data": {
      "text/plain": [
       "[45, 'zrt', 'abc', 'audh', 'sonu', 2424]"
      ]
     },
     "execution_count": 40,
     "metadata": {},
     "output_type": "execute_result"
    }
   ],
   "source": [
    "l2[::-1]"
   ]
  },
  {
   "cell_type": "raw",
   "id": "8720a948-cd9e-4b76-a5ce-e5f938e29118",
   "metadata": {},
   "source": [
    "l2.reverse()"
   ]
  },
  {
   "cell_type": "code",
   "execution_count": 41,
   "id": "6e72e494-a1f0-48c9-b605-1e853f780e8d",
   "metadata": {},
   "outputs": [
    {
     "data": {
      "text/plain": [
       "[2424, 'sonu', 'audh', 'abc', 'zrt', 45]"
      ]
     },
     "execution_count": 41,
     "metadata": {},
     "output_type": "execute_result"
    }
   ],
   "source": [
    "l2"
   ]
  },
  {
   "cell_type": "code",
   "execution_count": 42,
   "id": "bbdf914a-1e5c-4332-8d53-d6380e606b59",
   "metadata": {},
   "outputs": [
    {
     "ename": "TypeError",
     "evalue": "'<' not supported between instances of 'str' and 'int'",
     "output_type": "error",
     "traceback": [
      "\u001b[0;31m---------------------------------------------------------------------------\u001b[0m",
      "\u001b[0;31mTypeError\u001b[0m                                 Traceback (most recent call last)",
      "Cell \u001b[0;32mIn[42], line 1\u001b[0m\n\u001b[0;32m----> 1\u001b[0m \u001b[43ml2\u001b[49m\u001b[38;5;241;43m.\u001b[39;49m\u001b[43msort\u001b[49m\u001b[43m(\u001b[49m\u001b[43m)\u001b[49m\n",
      "\u001b[0;31mTypeError\u001b[0m: '<' not supported between instances of 'str' and 'int'"
     ]
    }
   ],
   "source": [
    "l2.sort()"
   ]
  },
  {
   "cell_type": "code",
   "execution_count": 43,
   "id": "5d0776de-a258-4e4d-9c9b-a549254cd796",
   "metadata": {},
   "outputs": [
    {
     "data": {
      "text/plain": [
       "[3, 4, 5, 6]"
      ]
     },
     "execution_count": 43,
     "metadata": {},
     "output_type": "execute_result"
    }
   ],
   "source": [
    "l1"
   ]
  },
  {
   "cell_type": "code",
   "execution_count": 44,
   "id": "54423ef6-7df9-4583-a365-b1ad8ab38a2d",
   "metadata": {},
   "outputs": [
    {
     "data": {
      "text/plain": [
       "[3, 4, 5, 6]"
      ]
     },
     "execution_count": 44,
     "metadata": {},
     "output_type": "execute_result"
    }
   ],
   "source": [
    "l1.sort()\n",
    "l1"
   ]
  },
  {
   "cell_type": "code",
   "execution_count": 45,
   "id": "5981a4c5-ce22-4024-8a72-96dc9e33c0b6",
   "metadata": {},
   "outputs": [
    {
     "data": {
      "text/plain": [
       "[1, 2, 2, 3, 3, 4, 4, 5, 5, 6, 6, 7, 32]"
      ]
     },
     "execution_count": 45,
     "metadata": {},
     "output_type": "execute_result"
    }
   ],
   "source": [
    "l4 = [6,1,2,32,3,4,5,6,7,2,3,4,5]\n",
    "l4.sort()\n",
    "l4"
   ]
  },
  {
   "cell_type": "code",
   "execution_count": 51,
   "id": "2d0d816a-958a-4984-be5c-19b669ab4841",
   "metadata": {},
   "outputs": [
    {
     "data": {
      "text/plain": [
       "['collegewallah', 'pwskills', 'python', 'sonu']"
      ]
     },
     "execution_count": 51,
     "metadata": {},
     "output_type": "execute_result"
    }
   ],
   "source": [
    "l5 = [\"pwskills\" , \"collegewallah\" , \"sonu\" , \"python\"]\n",
    "l5.sort()\n",
    "l5"
   ]
  },
  {
   "cell_type": "code",
   "execution_count": 52,
   "id": "006d98b5-23f4-402b-a426-e0b7b628c0ba",
   "metadata": {},
   "outputs": [
    {
     "data": {
      "text/plain": [
       "[1, 2, 2, 3, 3, 4, 4, 5, 5, 6, 6, 7, 32]"
      ]
     },
     "execution_count": 52,
     "metadata": {},
     "output_type": "execute_result"
    }
   ],
   "source": [
    "l4\n"
   ]
  },
  {
   "cell_type": "code",
   "execution_count": 53,
   "id": "c7f02c96-7be3-4d61-b48b-4138070e8228",
   "metadata": {},
   "outputs": [
    {
     "data": {
      "text/plain": [
       "[32, 7, 6, 6, 5, 5, 4, 4, 3, 3, 2, 2, 1]"
      ]
     },
     "execution_count": 53,
     "metadata": {},
     "output_type": "execute_result"
    }
   ],
   "source": [
    "l4.sort(reverse=True)\n",
    "l4"
   ]
  },
  {
   "cell_type": "code",
   "execution_count": 54,
   "id": "beed3ced-19cb-40d1-96a9-a344e09060c6",
   "metadata": {},
   "outputs": [
    {
     "data": {
      "text/plain": [
       "[3, 4, 5, 6]"
      ]
     },
     "execution_count": 54,
     "metadata": {},
     "output_type": "execute_result"
    }
   ],
   "source": [
    "l1"
   ]
  },
  {
   "cell_type": "code",
   "execution_count": 55,
   "id": "73823adc-aede-43f7-91ce-582402e33be9",
   "metadata": {},
   "outputs": [
    {
     "data": {
      "text/plain": [
       "[2424, 'sonu', 'audh', 'abc', 'zrt', 45]"
      ]
     },
     "execution_count": 55,
     "metadata": {},
     "output_type": "execute_result"
    }
   ],
   "source": [
    "l2"
   ]
  },
  {
   "cell_type": "code",
   "execution_count": 56,
   "id": "591036ed-399b-473b-8d38-648283318fb8",
   "metadata": {},
   "outputs": [
    {
     "data": {
      "text/plain": [
       "[True, False]"
      ]
     },
     "execution_count": 56,
     "metadata": {},
     "output_type": "execute_result"
    }
   ],
   "source": [
    "l3"
   ]
  },
  {
   "cell_type": "code",
   "execution_count": 57,
   "id": "271c53d7-ae66-4b5c-9950-e16c4ab44f01",
   "metadata": {},
   "outputs": [
    {
     "data": {
      "text/plain": [
       "[32, 7, 6, 6, 5, 5, 4, 4, 3, 3, 2, 2, 1]"
      ]
     },
     "execution_count": 57,
     "metadata": {},
     "output_type": "execute_result"
    }
   ],
   "source": [
    "l4"
   ]
  },
  {
   "cell_type": "code",
   "execution_count": 58,
   "id": "52743a17-a45b-4a6e-99c7-07e315021c82",
   "metadata": {},
   "outputs": [
    {
     "data": {
      "text/plain": [
       "[[3, 4, 5, 6],\n",
       " [2424, 'sonu', 'audh', 'abc', 'zrt', 45],\n",
       " [True, False],\n",
       " [32, 7, 6, 6, 5, 5, 4, 4, 3, 3, 2, 2, 1]]"
      ]
     },
     "execution_count": 58,
     "metadata": {},
     "output_type": "execute_result"
    }
   ],
   "source": [
    "[l1,l2,l3,l4]"
   ]
  },
  {
   "cell_type": "code",
   "execution_count": 59,
   "id": "ccab1b55-67c1-47c4-8a00-80242018586e",
   "metadata": {},
   "outputs": [],
   "source": [
    "l5 = [l1,l2]"
   ]
  },
  {
   "cell_type": "code",
   "execution_count": 60,
   "id": "f8ca1748-03e2-4f1b-a5e0-6a13689e5abf",
   "metadata": {},
   "outputs": [
    {
     "data": {
      "text/plain": [
       "[[3, 4, 5, 6], [2424, 'sonu', 'audh', 'abc', 'zrt', 45]]"
      ]
     },
     "execution_count": 60,
     "metadata": {},
     "output_type": "execute_result"
    }
   ],
   "source": [
    "l5"
   ]
  },
  {
   "cell_type": "code",
   "execution_count": 61,
   "id": "aa47f0de-0272-4016-9fba-dcefcd6d600d",
   "metadata": {},
   "outputs": [
    {
     "data": {
      "text/plain": [
       "2"
      ]
     },
     "execution_count": 61,
     "metadata": {},
     "output_type": "execute_result"
    }
   ],
   "source": [
    "len(l5)"
   ]
  },
  {
   "cell_type": "code",
   "execution_count": 63,
   "id": "7211c5ac-0080-43a2-83c9-b6ed207e8ae7",
   "metadata": {},
   "outputs": [
    {
     "data": {
      "text/plain": [
       "[[3, 4, 5, 6],\n",
       " [2424, 'sonu', 'audh', 'abc', 'zrt', 45],\n",
       " [True, False],\n",
       " 'sonu',\n",
       " 56,\n",
       " 45,\n",
       " 34,\n",
       " 67,\n",
       " True,\n",
       " (5+6j)]"
      ]
     },
     "execution_count": 63,
     "metadata": {},
     "output_type": "execute_result"
    }
   ],
   "source": [
    "l6 = [l1,l2,l3, \"sonu\" ,56,45,34,67,True,5+6j]\n",
    "l6"
   ]
  },
  {
   "cell_type": "code",
   "execution_count": 64,
   "id": "0a34305a-be41-423b-9a99-179e7ded7aa2",
   "metadata": {},
   "outputs": [
    {
     "data": {
      "text/plain": [
       "[2424, 'sonu', 'audh', 'abc', 'zrt', 45]"
      ]
     },
     "execution_count": 64,
     "metadata": {},
     "output_type": "execute_result"
    }
   ],
   "source": [
    "l6[1]"
   ]
  },
  {
   "cell_type": "code",
   "execution_count": null,
   "id": "05025832-544f-4de3-8a7f-fc2c7b923467",
   "metadata": {},
   "outputs": [],
   "source": []
  }
 ],
 "metadata": {
  "kernelspec": {
   "display_name": "Python 3 (ipykernel)",
   "language": "python",
   "name": "python3"
  },
  "language_info": {
   "codemirror_mode": {
    "name": "ipython",
    "version": 3
   },
   "file_extension": ".py",
   "mimetype": "text/x-python",
   "name": "python",
   "nbconvert_exporter": "python",
   "pygments_lexer": "ipython3",
   "version": "3.10.8"
  }
 },
 "nbformat": 4,
 "nbformat_minor": 5
}
